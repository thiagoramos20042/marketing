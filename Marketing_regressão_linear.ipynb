{
  "nbformat": 4,
  "nbformat_minor": 0,
  "metadata": {
    "colab": {
      "name": "Marketing_regressão_linear.ipynb",
      "provenance": [],
      "collapsed_sections": []
    },
    "kernelspec": {
      "display_name": "Python 3",
      "name": "python3"
    },
    "language_info": {
      "name": "python"
    }
  },
  "cells": [
    {
      "cell_type": "code",
      "metadata": {
        "id": "mwYJHA42l4q0"
      },
      "source": [
        "import pandas as pd\n",
        "import seaborn as sns\n",
        "import numpy as np\n",
        "import matplotlib.pyplot as plt\n",
        "\n"
      ],
      "execution_count": null,
      "outputs": []
    },
    {
      "cell_type": "markdown",
      "metadata": {
        "id": "oaQ19KAkMih4"
      },
      "source": [
        "# Regressão linear simples"
      ]
    },
    {
      "cell_type": "code",
      "metadata": {
        "id": "GsQgKaXmmNnX"
      },
      "source": [
        "df = pd.read_csv('/content/drive/MyDrive/PI DATA SCIENCE/MÓDULO 4/DATASET/Dummy Data HSS.csv')"
      ],
      "execution_count": null,
      "outputs": []
    },
    {
      "cell_type": "code",
      "metadata": {
        "colab": {
          "base_uri": "https://localhost:8080/",
          "height": 419
        },
        "id": "OmTtJ9qHmkIm",
        "outputId": "93f38e15-0ab7-4b30-9663-e8a2ad872638"
      },
      "source": [
        "df"
      ],
      "execution_count": null,
      "outputs": [
        {
          "output_type": "execute_result",
          "data": {
            "text/html": [
              "<div>\n",
              "<style scoped>\n",
              "    .dataframe tbody tr th:only-of-type {\n",
              "        vertical-align: middle;\n",
              "    }\n",
              "\n",
              "    .dataframe tbody tr th {\n",
              "        vertical-align: top;\n",
              "    }\n",
              "\n",
              "    .dataframe thead th {\n",
              "        text-align: right;\n",
              "    }\n",
              "</style>\n",
              "<table border=\"1\" class=\"dataframe\">\n",
              "  <thead>\n",
              "    <tr style=\"text-align: right;\">\n",
              "      <th></th>\n",
              "      <th>TV</th>\n",
              "      <th>Radio</th>\n",
              "      <th>Social Media</th>\n",
              "      <th>Influencer</th>\n",
              "      <th>Sales</th>\n",
              "    </tr>\n",
              "  </thead>\n",
              "  <tbody>\n",
              "    <tr>\n",
              "      <th>0</th>\n",
              "      <td>16.0</td>\n",
              "      <td>6.566231</td>\n",
              "      <td>2.907983</td>\n",
              "      <td>Mega</td>\n",
              "      <td>54.732757</td>\n",
              "    </tr>\n",
              "    <tr>\n",
              "      <th>1</th>\n",
              "      <td>13.0</td>\n",
              "      <td>9.237765</td>\n",
              "      <td>2.409567</td>\n",
              "      <td>Mega</td>\n",
              "      <td>46.677897</td>\n",
              "    </tr>\n",
              "    <tr>\n",
              "      <th>2</th>\n",
              "      <td>41.0</td>\n",
              "      <td>15.886446</td>\n",
              "      <td>2.913410</td>\n",
              "      <td>Mega</td>\n",
              "      <td>150.177829</td>\n",
              "    </tr>\n",
              "    <tr>\n",
              "      <th>3</th>\n",
              "      <td>83.0</td>\n",
              "      <td>30.020028</td>\n",
              "      <td>6.922304</td>\n",
              "      <td>Mega</td>\n",
              "      <td>298.246340</td>\n",
              "    </tr>\n",
              "    <tr>\n",
              "      <th>4</th>\n",
              "      <td>15.0</td>\n",
              "      <td>8.437408</td>\n",
              "      <td>1.405998</td>\n",
              "      <td>Micro</td>\n",
              "      <td>56.594181</td>\n",
              "    </tr>\n",
              "    <tr>\n",
              "      <th>...</th>\n",
              "      <td>...</td>\n",
              "      <td>...</td>\n",
              "      <td>...</td>\n",
              "      <td>...</td>\n",
              "      <td>...</td>\n",
              "    </tr>\n",
              "    <tr>\n",
              "      <th>4567</th>\n",
              "      <td>26.0</td>\n",
              "      <td>4.472360</td>\n",
              "      <td>0.717090</td>\n",
              "      <td>Micro</td>\n",
              "      <td>94.685866</td>\n",
              "    </tr>\n",
              "    <tr>\n",
              "      <th>4568</th>\n",
              "      <td>71.0</td>\n",
              "      <td>20.610685</td>\n",
              "      <td>6.545573</td>\n",
              "      <td>Nano</td>\n",
              "      <td>249.101915</td>\n",
              "    </tr>\n",
              "    <tr>\n",
              "      <th>4569</th>\n",
              "      <td>44.0</td>\n",
              "      <td>19.800072</td>\n",
              "      <td>5.096192</td>\n",
              "      <td>Micro</td>\n",
              "      <td>163.631457</td>\n",
              "    </tr>\n",
              "    <tr>\n",
              "      <th>4570</th>\n",
              "      <td>71.0</td>\n",
              "      <td>17.534640</td>\n",
              "      <td>1.940873</td>\n",
              "      <td>Macro</td>\n",
              "      <td>253.610411</td>\n",
              "    </tr>\n",
              "    <tr>\n",
              "      <th>4571</th>\n",
              "      <td>42.0</td>\n",
              "      <td>15.966688</td>\n",
              "      <td>5.046548</td>\n",
              "      <td>Micro</td>\n",
              "      <td>148.202414</td>\n",
              "    </tr>\n",
              "  </tbody>\n",
              "</table>\n",
              "<p>4572 rows × 5 columns</p>\n",
              "</div>"
            ],
            "text/plain": [
              "        TV      Radio  Social Media Influencer       Sales\n",
              "0     16.0   6.566231      2.907983       Mega   54.732757\n",
              "1     13.0   9.237765      2.409567       Mega   46.677897\n",
              "2     41.0  15.886446      2.913410       Mega  150.177829\n",
              "3     83.0  30.020028      6.922304       Mega  298.246340\n",
              "4     15.0   8.437408      1.405998      Micro   56.594181\n",
              "...    ...        ...           ...        ...         ...\n",
              "4567  26.0   4.472360      0.717090      Micro   94.685866\n",
              "4568  71.0  20.610685      6.545573       Nano  249.101915\n",
              "4569  44.0  19.800072      5.096192      Micro  163.631457\n",
              "4570  71.0  17.534640      1.940873      Macro  253.610411\n",
              "4571  42.0  15.966688      5.046548      Micro  148.202414\n",
              "\n",
              "[4572 rows x 5 columns]"
            ]
          },
          "metadata": {
            "tags": []
          },
          "execution_count": 104
        }
      ]
    },
    {
      "cell_type": "code",
      "metadata": {
        "colab": {
          "base_uri": "https://localhost:8080/"
        },
        "id": "KD0xNgpKnJRU",
        "outputId": "6ff13028-4dee-4d3f-ff48-557e49ac40b4"
      },
      "source": [
        "# informações do dataframe\n",
        "df.info()"
      ],
      "execution_count": null,
      "outputs": [
        {
          "output_type": "stream",
          "text": [
            "<class 'pandas.core.frame.DataFrame'>\n",
            "RangeIndex: 4572 entries, 0 to 4571\n",
            "Data columns (total 5 columns):\n",
            " #   Column        Non-Null Count  Dtype  \n",
            "---  ------        --------------  -----  \n",
            " 0   TV            4562 non-null   float64\n",
            " 1   Radio         4568 non-null   float64\n",
            " 2   Social Media  4566 non-null   float64\n",
            " 3   Influencer    4572 non-null   object \n",
            " 4   Sales         4566 non-null   float64\n",
            "dtypes: float64(4), object(1)\n",
            "memory usage: 178.7+ KB\n"
          ],
          "name": "stdout"
        }
      ]
    },
    {
      "cell_type": "code",
      "metadata": {
        "colab": {
          "base_uri": "https://localhost:8080/",
          "height": 297
        },
        "id": "HkJ1KAaknWSw",
        "outputId": "5f1245bf-d7a3-4da9-f7fd-48af1c9f37a0"
      },
      "source": [
        "# Estatística descritiva\n",
        "df.describe()"
      ],
      "execution_count": null,
      "outputs": [
        {
          "output_type": "execute_result",
          "data": {
            "text/html": [
              "<div>\n",
              "<style scoped>\n",
              "    .dataframe tbody tr th:only-of-type {\n",
              "        vertical-align: middle;\n",
              "    }\n",
              "\n",
              "    .dataframe tbody tr th {\n",
              "        vertical-align: top;\n",
              "    }\n",
              "\n",
              "    .dataframe thead th {\n",
              "        text-align: right;\n",
              "    }\n",
              "</style>\n",
              "<table border=\"1\" class=\"dataframe\">\n",
              "  <thead>\n",
              "    <tr style=\"text-align: right;\">\n",
              "      <th></th>\n",
              "      <th>TV</th>\n",
              "      <th>Radio</th>\n",
              "      <th>Social Media</th>\n",
              "      <th>Sales</th>\n",
              "    </tr>\n",
              "  </thead>\n",
              "  <tbody>\n",
              "    <tr>\n",
              "      <th>count</th>\n",
              "      <td>4562.000000</td>\n",
              "      <td>4568.000000</td>\n",
              "      <td>4566.000000</td>\n",
              "      <td>4566.000000</td>\n",
              "    </tr>\n",
              "    <tr>\n",
              "      <th>mean</th>\n",
              "      <td>54.066857</td>\n",
              "      <td>18.160356</td>\n",
              "      <td>3.323956</td>\n",
              "      <td>192.466602</td>\n",
              "    </tr>\n",
              "    <tr>\n",
              "      <th>std</th>\n",
              "      <td>26.125054</td>\n",
              "      <td>9.676958</td>\n",
              "      <td>2.212670</td>\n",
              "      <td>93.133092</td>\n",
              "    </tr>\n",
              "    <tr>\n",
              "      <th>min</th>\n",
              "      <td>10.000000</td>\n",
              "      <td>0.000684</td>\n",
              "      <td>0.000031</td>\n",
              "      <td>31.199409</td>\n",
              "    </tr>\n",
              "    <tr>\n",
              "      <th>25%</th>\n",
              "      <td>32.000000</td>\n",
              "      <td>10.525957</td>\n",
              "      <td>1.527849</td>\n",
              "      <td>112.322882</td>\n",
              "    </tr>\n",
              "    <tr>\n",
              "      <th>50%</th>\n",
              "      <td>53.000000</td>\n",
              "      <td>17.859513</td>\n",
              "      <td>3.055565</td>\n",
              "      <td>189.231172</td>\n",
              "    </tr>\n",
              "    <tr>\n",
              "      <th>75%</th>\n",
              "      <td>77.000000</td>\n",
              "      <td>25.649730</td>\n",
              "      <td>4.807558</td>\n",
              "      <td>272.507922</td>\n",
              "    </tr>\n",
              "    <tr>\n",
              "      <th>max</th>\n",
              "      <td>100.000000</td>\n",
              "      <td>48.871161</td>\n",
              "      <td>13.981662</td>\n",
              "      <td>364.079751</td>\n",
              "    </tr>\n",
              "  </tbody>\n",
              "</table>\n",
              "</div>"
            ],
            "text/plain": [
              "                TV        Radio  Social Media        Sales\n",
              "count  4562.000000  4568.000000   4566.000000  4566.000000\n",
              "mean     54.066857    18.160356      3.323956   192.466602\n",
              "std      26.125054     9.676958      2.212670    93.133092\n",
              "min      10.000000     0.000684      0.000031    31.199409\n",
              "25%      32.000000    10.525957      1.527849   112.322882\n",
              "50%      53.000000    17.859513      3.055565   189.231172\n",
              "75%      77.000000    25.649730      4.807558   272.507922\n",
              "max     100.000000    48.871161     13.981662   364.079751"
            ]
          },
          "metadata": {
            "tags": []
          },
          "execution_count": 106
        }
      ]
    },
    {
      "cell_type": "code",
      "metadata": {
        "colab": {
          "base_uri": "https://localhost:8080/"
        },
        "id": "M9nyY_Xbnylr",
        "outputId": "d73657e8-0224-4185-c066-3b890372d343"
      },
      "source": [
        "# Contando os dados missing? \n",
        "df.isnull().sum()"
      ],
      "execution_count": null,
      "outputs": [
        {
          "output_type": "execute_result",
          "data": {
            "text/plain": [
              "TV              10\n",
              "Radio            4\n",
              "Social Media     6\n",
              "Influencer       0\n",
              "Sales            6\n",
              "dtype: int64"
            ]
          },
          "metadata": {
            "tags": []
          },
          "execution_count": 107
        }
      ]
    },
    {
      "cell_type": "code",
      "metadata": {
        "id": "Mqa4r4-MpHqo"
      },
      "source": [
        "# Preenchendo os valores nulos com a média\n",
        "\n",
        "df_preenchido = df.fillna(df.mean())"
      ],
      "execution_count": null,
      "outputs": []
    },
    {
      "cell_type": "code",
      "metadata": {
        "colab": {
          "base_uri": "https://localhost:8080/",
          "height": 419
        },
        "id": "Me3FyHxRpwYj",
        "outputId": "1e59d46e-2f46-4eb4-e0e0-0127b888e4d4"
      },
      "source": [
        "df_preenchido"
      ],
      "execution_count": null,
      "outputs": [
        {
          "output_type": "execute_result",
          "data": {
            "text/html": [
              "<div>\n",
              "<style scoped>\n",
              "    .dataframe tbody tr th:only-of-type {\n",
              "        vertical-align: middle;\n",
              "    }\n",
              "\n",
              "    .dataframe tbody tr th {\n",
              "        vertical-align: top;\n",
              "    }\n",
              "\n",
              "    .dataframe thead th {\n",
              "        text-align: right;\n",
              "    }\n",
              "</style>\n",
              "<table border=\"1\" class=\"dataframe\">\n",
              "  <thead>\n",
              "    <tr style=\"text-align: right;\">\n",
              "      <th></th>\n",
              "      <th>TV</th>\n",
              "      <th>Radio</th>\n",
              "      <th>Social Media</th>\n",
              "      <th>Influencer</th>\n",
              "      <th>Sales</th>\n",
              "    </tr>\n",
              "  </thead>\n",
              "  <tbody>\n",
              "    <tr>\n",
              "      <th>0</th>\n",
              "      <td>16.0</td>\n",
              "      <td>6.566231</td>\n",
              "      <td>2.907983</td>\n",
              "      <td>Mega</td>\n",
              "      <td>54.732757</td>\n",
              "    </tr>\n",
              "    <tr>\n",
              "      <th>1</th>\n",
              "      <td>13.0</td>\n",
              "      <td>9.237765</td>\n",
              "      <td>2.409567</td>\n",
              "      <td>Mega</td>\n",
              "      <td>46.677897</td>\n",
              "    </tr>\n",
              "    <tr>\n",
              "      <th>2</th>\n",
              "      <td>41.0</td>\n",
              "      <td>15.886446</td>\n",
              "      <td>2.913410</td>\n",
              "      <td>Mega</td>\n",
              "      <td>150.177829</td>\n",
              "    </tr>\n",
              "    <tr>\n",
              "      <th>3</th>\n",
              "      <td>83.0</td>\n",
              "      <td>30.020028</td>\n",
              "      <td>6.922304</td>\n",
              "      <td>Mega</td>\n",
              "      <td>298.246340</td>\n",
              "    </tr>\n",
              "    <tr>\n",
              "      <th>4</th>\n",
              "      <td>15.0</td>\n",
              "      <td>8.437408</td>\n",
              "      <td>1.405998</td>\n",
              "      <td>Micro</td>\n",
              "      <td>56.594181</td>\n",
              "    </tr>\n",
              "    <tr>\n",
              "      <th>...</th>\n",
              "      <td>...</td>\n",
              "      <td>...</td>\n",
              "      <td>...</td>\n",
              "      <td>...</td>\n",
              "      <td>...</td>\n",
              "    </tr>\n",
              "    <tr>\n",
              "      <th>4567</th>\n",
              "      <td>26.0</td>\n",
              "      <td>4.472360</td>\n",
              "      <td>0.717090</td>\n",
              "      <td>Micro</td>\n",
              "      <td>94.685866</td>\n",
              "    </tr>\n",
              "    <tr>\n",
              "      <th>4568</th>\n",
              "      <td>71.0</td>\n",
              "      <td>20.610685</td>\n",
              "      <td>6.545573</td>\n",
              "      <td>Nano</td>\n",
              "      <td>249.101915</td>\n",
              "    </tr>\n",
              "    <tr>\n",
              "      <th>4569</th>\n",
              "      <td>44.0</td>\n",
              "      <td>19.800072</td>\n",
              "      <td>5.096192</td>\n",
              "      <td>Micro</td>\n",
              "      <td>163.631457</td>\n",
              "    </tr>\n",
              "    <tr>\n",
              "      <th>4570</th>\n",
              "      <td>71.0</td>\n",
              "      <td>17.534640</td>\n",
              "      <td>1.940873</td>\n",
              "      <td>Macro</td>\n",
              "      <td>253.610411</td>\n",
              "    </tr>\n",
              "    <tr>\n",
              "      <th>4571</th>\n",
              "      <td>42.0</td>\n",
              "      <td>15.966688</td>\n",
              "      <td>5.046548</td>\n",
              "      <td>Micro</td>\n",
              "      <td>148.202414</td>\n",
              "    </tr>\n",
              "  </tbody>\n",
              "</table>\n",
              "<p>4572 rows × 5 columns</p>\n",
              "</div>"
            ],
            "text/plain": [
              "        TV      Radio  Social Media Influencer       Sales\n",
              "0     16.0   6.566231      2.907983       Mega   54.732757\n",
              "1     13.0   9.237765      2.409567       Mega   46.677897\n",
              "2     41.0  15.886446      2.913410       Mega  150.177829\n",
              "3     83.0  30.020028      6.922304       Mega  298.246340\n",
              "4     15.0   8.437408      1.405998      Micro   56.594181\n",
              "...    ...        ...           ...        ...         ...\n",
              "4567  26.0   4.472360      0.717090      Micro   94.685866\n",
              "4568  71.0  20.610685      6.545573       Nano  249.101915\n",
              "4569  44.0  19.800072      5.096192      Micro  163.631457\n",
              "4570  71.0  17.534640      1.940873      Macro  253.610411\n",
              "4571  42.0  15.966688      5.046548      Micro  148.202414\n",
              "\n",
              "[4572 rows x 5 columns]"
            ]
          },
          "metadata": {
            "tags": []
          },
          "execution_count": 109
        }
      ]
    },
    {
      "cell_type": "code",
      "metadata": {
        "colab": {
          "base_uri": "https://localhost:8080/"
        },
        "id": "NqW85pE0p5_f",
        "outputId": "9a640a1f-90db-4910-9b78-a23125edc55a"
      },
      "source": [
        "# df_preeenchido com os dados ausentes preenchido com a média\n",
        "df_preenchido.isnull().sum()"
      ],
      "execution_count": null,
      "outputs": [
        {
          "output_type": "execute_result",
          "data": {
            "text/plain": [
              "TV              0\n",
              "Radio           0\n",
              "Social Media    0\n",
              "Influencer      0\n",
              "Sales           0\n",
              "dtype: int64"
            ]
          },
          "metadata": {
            "tags": []
          },
          "execution_count": 110
        }
      ]
    },
    {
      "cell_type": "code",
      "metadata": {
        "colab": {
          "base_uri": "https://localhost:8080/",
          "height": 173
        },
        "id": "xZyt1uroF4xe",
        "outputId": "693a80cb-bcab-4bef-c4c4-89912b16f063"
      },
      "source": [
        "df_preenchido.corr()"
      ],
      "execution_count": null,
      "outputs": [
        {
          "output_type": "execute_result",
          "data": {
            "text/html": [
              "<div>\n",
              "<style scoped>\n",
              "    .dataframe tbody tr th:only-of-type {\n",
              "        vertical-align: middle;\n",
              "    }\n",
              "\n",
              "    .dataframe tbody tr th {\n",
              "        vertical-align: top;\n",
              "    }\n",
              "\n",
              "    .dataframe thead th {\n",
              "        text-align: right;\n",
              "    }\n",
              "</style>\n",
              "<table border=\"1\" class=\"dataframe\">\n",
              "  <thead>\n",
              "    <tr style=\"text-align: right;\">\n",
              "      <th></th>\n",
              "      <th>TV</th>\n",
              "      <th>Radio</th>\n",
              "      <th>Social Media</th>\n",
              "      <th>Sales</th>\n",
              "    </tr>\n",
              "  </thead>\n",
              "  <tbody>\n",
              "    <tr>\n",
              "      <th>TV</th>\n",
              "      <td>1.000000</td>\n",
              "      <td>0.866885</td>\n",
              "      <td>0.527010</td>\n",
              "      <td>0.996652</td>\n",
              "    </tr>\n",
              "    <tr>\n",
              "      <th>Radio</th>\n",
              "      <td>0.866885</td>\n",
              "      <td>1.000000</td>\n",
              "      <td>0.606793</td>\n",
              "      <td>0.867369</td>\n",
              "    </tr>\n",
              "    <tr>\n",
              "      <th>Social Media</th>\n",
              "      <td>0.527010</td>\n",
              "      <td>0.606793</td>\n",
              "      <td>1.000000</td>\n",
              "      <td>0.528121</td>\n",
              "    </tr>\n",
              "    <tr>\n",
              "      <th>Sales</th>\n",
              "      <td>0.996652</td>\n",
              "      <td>0.867369</td>\n",
              "      <td>0.528121</td>\n",
              "      <td>1.000000</td>\n",
              "    </tr>\n",
              "  </tbody>\n",
              "</table>\n",
              "</div>"
            ],
            "text/plain": [
              "                    TV     Radio  Social Media     Sales\n",
              "TV            1.000000  0.866885      0.527010  0.996652\n",
              "Radio         0.866885  1.000000      0.606793  0.867369\n",
              "Social Media  0.527010  0.606793      1.000000  0.528121\n",
              "Sales         0.996652  0.867369      0.528121  1.000000"
            ]
          },
          "metadata": {
            "tags": []
          },
          "execution_count": 118
        }
      ]
    },
    {
      "cell_type": "code",
      "metadata": {
        "colab": {
          "base_uri": "https://localhost:8080/"
        },
        "id": "cM4bLOAbGCzD",
        "outputId": "6f6836f3-b8a1-4151-e63e-6d3e17d3eddd"
      },
      "source": [
        "df_preenchido.corr()[\"Sales\"].sort_values(ascending=False)"
      ],
      "execution_count": null,
      "outputs": [
        {
          "output_type": "execute_result",
          "data": {
            "text/plain": [
              "Sales           1.000000\n",
              "TV              0.996652\n",
              "Radio           0.867369\n",
              "Social Media    0.528121\n",
              "Name: Sales, dtype: float64"
            ]
          },
          "metadata": {
            "tags": []
          },
          "execution_count": 119
        }
      ]
    },
    {
      "cell_type": "code",
      "metadata": {
        "id": "Ur_RpMAuGLPS"
      },
      "source": [
        "# crie duas variáveis, X e y, respectivamente os arrays das features total bill e tip\n",
        "\n",
        "X = df_preenchido[\"TV\"]\n",
        "\n",
        "y = df_preenchido[\"Sales\"]"
      ],
      "execution_count": null,
      "outputs": []
    },
    {
      "cell_type": "code",
      "metadata": {
        "id": "2Vs-uJfGDcgw"
      },
      "source": [
        "# 1) Importe a classe do estimador que se deseja treinar\n",
        "\n",
        "from sklearn.linear_model import LinearRegression\n",
        "from sklearn.model_selection import train_test_split\n",
        "\n",
        "X_train, X_test, y_train, y_test = train_test_split(X, y, test_size=0.2, random_state=42)"
      ],
      "execution_count": null,
      "outputs": []
    },
    {
      "cell_type": "code",
      "metadata": {
        "colab": {
          "base_uri": "https://localhost:8080/"
        },
        "id": "eM3CJNpwDcky",
        "outputId": "d165a248-fed6-41c3-9a17-53bb823d68b4"
      },
      "source": [
        "X"
      ],
      "execution_count": null,
      "outputs": [
        {
          "output_type": "execute_result",
          "data": {
            "text/plain": [
              "0       16.0\n",
              "1       13.0\n",
              "2       41.0\n",
              "3       83.0\n",
              "4       15.0\n",
              "        ... \n",
              "4567    26.0\n",
              "4568    71.0\n",
              "4569    44.0\n",
              "4570    71.0\n",
              "4571    42.0\n",
              "Name: TV, Length: 4572, dtype: float64"
            ]
          },
          "metadata": {
            "tags": []
          },
          "execution_count": 126
        }
      ]
    },
    {
      "cell_type": "code",
      "metadata": {
        "colab": {
          "base_uri": "https://localhost:8080/"
        },
        "id": "zcbnBqXwDcvB",
        "outputId": "78cdc1b8-40e0-49ee-bbab-b56c1e132f7f"
      },
      "source": [
        "X_train"
      ],
      "execution_count": null,
      "outputs": [
        {
          "output_type": "execute_result",
          "data": {
            "text/plain": [
              "2789    46.0\n",
              "501     21.0\n",
              "794     41.0\n",
              "2519    42.0\n",
              "1954    79.0\n",
              "        ... \n",
              "4426    45.0\n",
              "466     66.0\n",
              "3092    82.0\n",
              "3772    93.0\n",
              "860     69.0\n",
              "Name: TV, Length: 3657, dtype: float64"
            ]
          },
          "metadata": {
            "tags": []
          },
          "execution_count": 127
        }
      ]
    },
    {
      "cell_type": "code",
      "metadata": {
        "colab": {
          "base_uri": "https://localhost:8080/"
        },
        "id": "DaL9H2p-Dc4s",
        "outputId": "39f5812c-b553-453c-8184-e1f96a625f09"
      },
      "source": [
        "X_test"
      ],
      "execution_count": null,
      "outputs": [
        {
          "output_type": "execute_result",
          "data": {
            "text/plain": [
              "538     26.0\n",
              "1822    62.0\n",
              "534     29.0\n",
              "2119    92.0\n",
              "561     99.0\n",
              "        ... \n",
              "744     68.0\n",
              "733     35.0\n",
              "2647    70.0\n",
              "4149    70.0\n",
              "3819    71.0\n",
              "Name: TV, Length: 915, dtype: float64"
            ]
          },
          "metadata": {
            "tags": []
          },
          "execution_count": 128
        }
      ]
    },
    {
      "cell_type": "code",
      "metadata": {
        "colab": {
          "base_uri": "https://localhost:8080/"
        },
        "id": "u_YXgNAUDdCX",
        "outputId": "becfdf78-3d2b-476f-8ba0-f0947d5e1e73"
      },
      "source": [
        "np.array(X_train).reshape(-1, 1)"
      ],
      "execution_count": null,
      "outputs": [
        {
          "output_type": "execute_result",
          "data": {
            "text/plain": [
              "array([[46.],\n",
              "       [21.],\n",
              "       [41.],\n",
              "       ...,\n",
              "       [82.],\n",
              "       [93.],\n",
              "       [69.]])"
            ]
          },
          "metadata": {
            "tags": []
          },
          "execution_count": 129
        }
      ]
    },
    {
      "cell_type": "code",
      "metadata": {
        "id": "Z-DjdRInDdNN"
      },
      "source": [
        "#4) Treine o modelo, usando os dados de treino. \n",
        "# Este é um modelo simples, não tem muitos hiperparâmetros relevantes\n",
        "# obs: é necessário dar um reshape nas features!\n",
        "\n",
        "modelo = estimador.fit(np.array(X_train).reshape(-1, 1), y_train)"
      ],
      "execution_count": null,
      "outputs": []
    },
    {
      "cell_type": "code",
      "metadata": {
        "colab": {
          "base_uri": "https://localhost:8080/"
        },
        "id": "KhiY5UWDDdX9",
        "outputId": "72e001c4-5e82-40c5-c81e-41692bd916ac"
      },
      "source": [
        "# pegue o intercet. Dica: veja os atributos do modelo treinado!\n",
        "\n",
        "b_0 = modelo.intercept_\n",
        "\n",
        "b_0"
      ],
      "execution_count": null,
      "outputs": [
        {
          "output_type": "execute_result",
          "data": {
            "text/plain": [
              "0.2232524557588249"
            ]
          },
          "metadata": {
            "tags": []
          },
          "execution_count": 131
        }
      ]
    },
    {
      "cell_type": "code",
      "metadata": {
        "colab": {
          "base_uri": "https://localhost:8080/"
        },
        "id": "z5iWqHXdDdh0",
        "outputId": "98221515-a21b-4b50-c3e7-832f0d678a09"
      },
      "source": [
        "# peque o coeficiente angular. Dica: veja os atributos do modelo treinado!\n",
        "\n",
        "b_1 = modelo.coef_[0]\n",
        "\n",
        "b_1"
      ],
      "execution_count": null,
      "outputs": [
        {
          "output_type": "execute_result",
          "data": {
            "text/plain": [
              "3.556558069437122"
            ]
          },
          "metadata": {
            "tags": []
          },
          "execution_count": 132
        }
      ]
    },
    {
      "cell_type": "code",
      "metadata": {
        "colab": {
          "base_uri": "https://localhost:8080/",
          "height": 296
        },
        "id": "M6lA_TUPDdtM",
        "outputId": "f34446b4-ee84-4e77-9e71-c8268bdffd5f"
      },
      "source": [
        "# faça um scatterplot da fgeature pelo target\n",
        "sns.scatterplot(data=df_preenchido, x=\"TV\", y=\"Sales\")\n",
        "\n",
        "# faça um plot da reta do modelo\n",
        "# crie um array com os valores de x. dica:  use o range aproximado da variável GrLivArea\n",
        "# crie um array de y com a equação da reta usando os coeficientes encontrados\n",
        "x = np.linspace(0, 100, 10000)\n",
        "y = modelo.intercept_ + modelo.coef_[0]*x\n",
        "plt.plot(x, y, color=\"red\")\n"
      ],
      "execution_count": null,
      "outputs": [
        {
          "output_type": "execute_result",
          "data": {
            "text/plain": [
              "[<matplotlib.lines.Line2D at 0x7faec61b6150>]"
            ]
          },
          "metadata": {
            "tags": []
          },
          "execution_count": 167
        },
        {
          "output_type": "display_data",
          "data": {
            "image/png": "[encoded data removed]",
            "text/plain": [
              "<Figure size 432x288 with 1 Axes>"
            ]
          },
          "metadata": {
            "tags": [],
            "needs_background": "light"
          }
        }
      ]
    },
    {
      "cell_type": "markdown",
      "metadata": {
        "id": "2YAceEngHwSu"
      },
      "source": [
        "# Fazendo uma previsão"
      ]
    },
    {
      "cell_type": "code",
      "metadata": {
        "colab": {
          "base_uri": "https://localhost:8080/"
        },
        "id": "zW38kA5ZDd3c",
        "outputId": "49846446-47d8-48c4-d593-d320c1aa0661"
      },
      "source": [
        "x = 10\n",
        "y = modelo.intercept_ + modelo.coef_[0]*x\n",
        "\n",
        "print(\"O valor total em vendas será:\", y)"
      ],
      "execution_count": null,
      "outputs": [
        {
          "output_type": "stream",
          "text": [
            "O valor total em vendas será: 35.788833150130046\n"
          ],
          "name": "stdout"
        }
      ]
    },
    {
      "cell_type": "markdown",
      "metadata": {
        "id": "qLHAJzBmIBQc"
      },
      "source": [
        "# Agora algumas previsões"
      ]
    },
    {
      "cell_type": "code",
      "metadata": {
        "colab": {
          "base_uri": "https://localhost:8080/"
        },
        "id": "ulZBy-y-DeBz",
        "outputId": "e5ae68bc-1437-41ad-8e4a-e1d3dcf279f9"
      },
      "source": [
        "np.array(X_test).reshape(-1, 1)"
      ],
      "execution_count": null,
      "outputs": [
        {
          "output_type": "execute_result",
          "data": {
            "text/plain": [
              "array([[ 26.        ],\n",
              "       [ 62.        ],\n",
              "       [ 29.        ],\n",
              "       [ 92.        ],\n",
              "       [ 99.        ],\n",
              "       [ 74.        ],\n",
              "       [ 99.        ],\n",
              "       [ 39.        ],\n",
              "       [ 74.        ],\n",
              "       [ 15.        ],\n",
              "       [ 38.        ],\n",
              "       [ 33.        ],\n",
              "       [ 88.        ],\n",
              "       [ 54.        ],\n",
              "       [ 44.        ],\n",
              "       [ 84.        ],\n",
              "       [ 70.        ],\n",
              "       [ 32.        ],\n",
              "       [ 84.        ],\n",
              "       [ 67.        ],\n",
              "       [ 53.        ],\n",
              "       [ 98.        ],\n",
              "       [ 32.        ],\n",
              "       [ 27.        ],\n",
              "       [ 45.        ],\n",
              "       [ 99.        ],\n",
              "       [ 16.        ],\n",
              "       [ 47.        ],\n",
              "       [ 64.        ],\n",
              "       [100.        ],\n",
              "       [ 72.        ],\n",
              "       [ 46.        ],\n",
              "       [ 98.        ],\n",
              "       [ 78.        ],\n",
              "       [ 18.        ],\n",
              "       [ 14.        ],\n",
              "       [ 23.        ],\n",
              "       [ 90.        ],\n",
              "       [ 34.        ],\n",
              "       [ 69.        ],\n",
              "       [ 77.        ],\n",
              "       [ 42.        ],\n",
              "       [ 43.        ],\n",
              "       [ 46.        ],\n",
              "       [ 95.        ],\n",
              "       [ 81.        ],\n",
              "       [ 68.        ],\n",
              "       [ 12.        ],\n",
              "       [ 76.        ],\n",
              "       [ 92.        ],\n",
              "       [ 42.        ],\n",
              "       [ 72.        ],\n",
              "       [ 62.        ],\n",
              "       [ 35.        ],\n",
              "       [ 61.        ],\n",
              "       [ 11.        ],\n",
              "       [ 21.        ],\n",
              "       [ 63.        ],\n",
              "       [ 68.        ],\n",
              "       [ 37.        ],\n",
              "       [ 54.        ],\n",
              "       [ 24.        ],\n",
              "       [ 24.        ],\n",
              "       [ 38.        ],\n",
              "       [ 42.        ],\n",
              "       [ 15.        ],\n",
              "       [ 20.        ],\n",
              "       [ 10.        ],\n",
              "       [ 47.        ],\n",
              "       [ 73.        ],\n",
              "       [ 77.        ],\n",
              "       [ 74.        ],\n",
              "       [ 99.        ],\n",
              "       [ 64.        ],\n",
              "       [ 24.        ],\n",
              "       [ 83.        ],\n",
              "       [ 82.        ],\n",
              "       [ 78.        ],\n",
              "       [ 81.        ],\n",
              "       [ 31.        ],\n",
              "       [ 27.        ],\n",
              "       [ 21.        ],\n",
              "       [ 22.        ],\n",
              "       [ 88.        ],\n",
              "       [ 36.        ],\n",
              "       [ 51.        ],\n",
              "       [ 40.        ],\n",
              "       [ 40.        ],\n",
              "       [ 37.        ],\n",
              "       [ 13.        ],\n",
              "       [ 81.        ],\n",
              "       [ 60.        ],\n",
              "       [ 89.        ],\n",
              "       [ 46.        ],\n",
              "       [ 31.        ],\n",
              "       [ 34.        ],\n",
              "       [ 99.        ],\n",
              "       [ 72.        ],\n",
              "       [ 30.        ],\n",
              "       [ 28.        ],\n",
              "       [ 33.        ],\n",
              "       [ 54.        ],\n",
              "       [ 43.        ],\n",
              "       [ 96.        ],\n",
              "       [ 59.        ],\n",
              "       [ 36.        ],\n",
              "       [ 97.        ],\n",
              "       [ 52.        ],\n",
              "       [ 13.        ],\n",
              "       [ 78.        ],\n",
              "       [ 68.        ],\n",
              "       [ 65.        ],\n",
              "       [ 38.        ],\n",
              "       [ 34.        ],\n",
              "       [ 32.        ],\n",
              "       [ 80.        ],\n",
              "       [ 37.        ],\n",
              "       [ 92.        ],\n",
              "       [ 85.        ],\n",
              "       [ 34.        ],\n",
              "       [ 20.        ],\n",
              "       [ 16.        ],\n",
              "       [ 75.        ],\n",
              "       [ 32.        ],\n",
              "       [ 47.        ],\n",
              "       [ 24.        ],\n",
              "       [ 75.        ],\n",
              "       [100.        ],\n",
              "       [ 56.        ],\n",
              "       [ 79.        ],\n",
              "       [ 57.        ],\n",
              "       [ 59.        ],\n",
              "       [ 85.        ],\n",
              "       [ 27.        ],\n",
              "       [ 67.        ],\n",
              "       [ 18.        ],\n",
              "       [ 66.        ],\n",
              "       [ 60.        ],\n",
              "       [ 51.        ],\n",
              "       [ 25.        ],\n",
              "       [ 50.        ],\n",
              "       [ 58.        ],\n",
              "       [ 49.        ],\n",
              "       [ 65.        ],\n",
              "       [ 86.        ],\n",
              "       [ 78.        ],\n",
              "       [ 23.        ],\n",
              "       [ 25.        ],\n",
              "       [ 89.        ],\n",
              "       [ 51.        ],\n",
              "       [ 41.        ],\n",
              "       [ 65.        ],\n",
              "       [ 10.        ],\n",
              "       [ 29.        ],\n",
              "       [ 61.        ],\n",
              "       [ 78.        ],\n",
              "       [ 47.        ],\n",
              "       [ 46.        ],\n",
              "       [ 64.        ],\n",
              "       [ 70.        ],\n",
              "       [ 60.        ],\n",
              "       [ 73.        ],\n",
              "       [ 99.        ],\n",
              "       [ 88.        ],\n",
              "       [ 60.        ],\n",
              "       [ 66.        ],\n",
              "       [ 62.        ],\n",
              "       [ 86.        ],\n",
              "       [ 75.        ],\n",
              "       [ 56.        ],\n",
              "       [ 12.        ],\n",
              "       [ 53.        ],\n",
              "       [ 62.        ],\n",
              "       [ 74.        ],\n",
              "       [ 63.        ],\n",
              "       [ 66.        ],\n",
              "       [ 56.        ],\n",
              "       [ 40.        ],\n",
              "       [ 63.        ],\n",
              "       [ 29.        ],\n",
              "       [ 35.        ],\n",
              "       [ 37.        ],\n",
              "       [ 69.        ],\n",
              "       [ 15.        ],\n",
              "       [ 93.        ],\n",
              "       [ 64.        ],\n",
              "       [ 20.        ],\n",
              "       [100.        ],\n",
              "       [ 88.        ],\n",
              "       [ 77.        ],\n",
              "       [ 27.        ],\n",
              "       [ 37.        ],\n",
              "       [ 11.        ],\n",
              "       [ 44.        ],\n",
              "       [ 32.        ],\n",
              "       [ 19.        ],\n",
              "       [ 25.        ],\n",
              "       [ 67.        ],\n",
              "       [ 70.        ],\n",
              "       [ 28.        ],\n",
              "       [ 60.        ],\n",
              "       [ 59.        ],\n",
              "       [ 61.        ],\n",
              "       [ 17.        ],\n",
              "       [ 51.        ],\n",
              "       [ 17.        ],\n",
              "       [ 68.        ],\n",
              "       [ 94.        ],\n",
              "       [ 90.        ],\n",
              "       [ 15.        ],\n",
              "       [ 66.        ],\n",
              "       [ 75.        ],\n",
              "       [ 86.        ],\n",
              "       [ 82.        ],\n",
              "       [ 94.        ],\n",
              "       [ 71.        ],\n",
              "       [ 52.        ],\n",
              "       [ 37.        ],\n",
              "       [ 31.        ],\n",
              "       [ 53.        ],\n",
              "       [ 25.        ],\n",
              "       [ 70.        ],\n",
              "       [100.        ],\n",
              "       [ 60.        ],\n",
              "       [ 91.        ],\n",
              "       [ 14.        ],\n",
              "       [ 39.        ],\n",
              "       [ 77.        ],\n",
              "       [ 60.        ],\n",
              "       [ 77.        ],\n",
              "       [ 36.        ],\n",
              "       [ 66.        ],\n",
              "       [ 54.06685664],\n",
              "       [ 90.        ],\n",
              "       [ 17.        ],\n",
              "       [ 63.        ],\n",
              "       [ 31.        ],\n",
              "       [ 34.        ],\n",
              "       [ 24.        ],\n",
              "       [ 33.        ],\n",
              "       [ 35.        ],\n",
              "       [ 26.        ],\n",
              "       [ 16.        ],\n",
              "       [ 58.        ],\n",
              "       [ 46.        ],\n",
              "       [ 88.        ],\n",
              "       [ 62.        ],\n",
              "       [ 11.        ],\n",
              "       [ 38.        ],\n",
              "       [ 15.        ],\n",
              "       [ 91.        ],\n",
              "       [ 39.        ],\n",
              "       [ 16.        ],\n",
              "       [ 72.        ],\n",
              "       [ 38.        ],\n",
              "       [ 35.        ],\n",
              "       [ 26.        ],\n",
              "       [ 70.        ],\n",
              "       [ 13.        ],\n",
              "       [ 64.        ],\n",
              "       [ 43.        ],\n",
              "       [ 34.        ],\n",
              "       [100.        ],\n",
              "       [ 66.        ],\n",
              "       [ 40.        ],\n",
              "       [ 10.        ],\n",
              "       [ 38.        ],\n",
              "       [ 41.        ],\n",
              "       [ 42.        ],\n",
              "       [ 78.        ],\n",
              "       [ 44.        ],\n",
              "       [ 91.        ],\n",
              "       [ 64.        ],\n",
              "       [ 94.        ],\n",
              "       [ 25.        ],\n",
              "       [ 84.        ],\n",
              "       [ 24.        ],\n",
              "       [ 57.        ],\n",
              "       [ 13.        ],\n",
              "       [ 81.        ],\n",
              "       [ 57.        ],\n",
              "       [ 70.        ],\n",
              "       [ 19.        ],\n",
              "       [ 42.        ],\n",
              "       [ 72.        ],\n",
              "       [ 18.        ],\n",
              "       [ 50.        ],\n",
              "       [ 94.        ],\n",
              "       [ 59.        ],\n",
              "       [ 13.        ],\n",
              "       [ 43.        ],\n",
              "       [ 38.        ],\n",
              "       [ 88.        ],\n",
              "       [ 85.        ],\n",
              "       [ 49.        ],\n",
              "       [ 40.        ],\n",
              "       [ 42.        ],\n",
              "       [ 83.        ],\n",
              "       [ 76.        ],\n",
              "       [ 27.        ],\n",
              "       [ 60.        ],\n",
              "       [ 59.        ],\n",
              "       [ 35.        ],\n",
              "       [ 94.        ],\n",
              "       [ 83.        ],\n",
              "       [ 38.        ],\n",
              "       [ 59.        ],\n",
              "       [ 72.        ],\n",
              "       [ 38.        ],\n",
              "       [ 54.        ],\n",
              "       [ 95.        ],\n",
              "       [ 73.        ],\n",
              "       [ 70.        ],\n",
              "       [ 28.        ],\n",
              "       [ 77.        ],\n",
              "       [ 89.        ],\n",
              "       [ 43.        ],\n",
              "       [ 62.        ],\n",
              "       [ 87.        ],\n",
              "       [ 99.        ],\n",
              "       [ 33.        ],\n",
              "       [ 84.        ],\n",
              "       [ 70.        ],\n",
              "       [ 20.        ],\n",
              "       [ 78.        ],\n",
              "       [ 72.        ],\n",
              "       [ 60.        ],\n",
              "       [ 25.        ],\n",
              "       [ 49.        ],\n",
              "       [ 94.        ],\n",
              "       [ 33.        ],\n",
              "       [ 83.        ],\n",
              "       [ 20.        ],\n",
              "       [ 14.        ],\n",
              "       [ 63.        ],\n",
              "       [ 10.        ],\n",
              "       [ 70.        ],\n",
              "       [ 92.        ],\n",
              "       [ 68.        ],\n",
              "       [ 85.        ],\n",
              "       [ 34.        ],\n",
              "       [ 81.        ],\n",
              "       [ 69.        ],\n",
              "       [ 30.        ],\n",
              "       [ 85.        ],\n",
              "       [ 10.        ],\n",
              "       [ 10.        ],\n",
              "       [ 20.        ],\n",
              "       [ 42.        ],\n",
              "       [ 50.        ],\n",
              "       [ 79.        ],\n",
              "       [ 46.        ],\n",
              "       [ 83.        ],\n",
              "       [ 19.        ],\n",
              "       [ 99.        ],\n",
              "       [ 42.        ],\n",
              "       [ 92.        ],\n",
              "       [ 28.        ],\n",
              "       [ 22.        ],\n",
              "       [ 44.        ],\n",
              "       [ 99.        ],\n",
              "       [ 39.        ],\n",
              "       [ 20.        ],\n",
              "       [ 23.        ],\n",
              "       [ 18.        ],\n",
              "       [ 38.        ],\n",
              "       [ 24.        ],\n",
              "       [ 19.        ],\n",
              "       [ 45.        ],\n",
              "       [ 54.        ],\n",
              "       [ 42.        ],\n",
              "       [ 80.        ],\n",
              "       [ 73.        ],\n",
              "       [ 61.        ],\n",
              "       [ 33.        ],\n",
              "       [ 70.        ],\n",
              "       [ 15.        ],\n",
              "       [ 45.        ],\n",
              "       [ 74.        ],\n",
              "       [ 58.        ],\n",
              "       [ 77.        ],\n",
              "       [ 43.        ],\n",
              "       [ 67.        ],\n",
              "       [ 38.        ],\n",
              "       [ 74.        ],\n",
              "       [ 96.        ],\n",
              "       [ 88.        ],\n",
              "       [ 75.        ],\n",
              "       [ 25.        ],\n",
              "       [ 40.        ],\n",
              "       [ 12.        ],\n",
              "       [ 24.        ],\n",
              "       [ 42.        ],\n",
              "       [ 92.        ],\n",
              "       [ 92.        ],\n",
              "       [ 75.        ],\n",
              "       [ 65.        ],\n",
              "       [ 91.        ],\n",
              "       [ 74.        ],\n",
              "       [ 15.        ],\n",
              "       [ 72.        ],\n",
              "       [ 41.        ],\n",
              "       [ 58.        ],\n",
              "       [ 59.        ],\n",
              "       [100.        ],\n",
              "       [ 40.        ],\n",
              "       [ 45.        ],\n",
              "       [ 83.        ],\n",
              "       [ 80.        ],\n",
              "       [ 24.        ],\n",
              "       [ 83.        ],\n",
              "       [ 64.        ],\n",
              "       [ 23.        ],\n",
              "       [ 77.        ],\n",
              "       [ 94.        ],\n",
              "       [ 31.        ],\n",
              "       [ 41.        ],\n",
              "       [ 62.        ],\n",
              "       [ 71.        ],\n",
              "       [ 14.        ],\n",
              "       [ 32.        ],\n",
              "       [ 63.        ],\n",
              "       [ 21.        ],\n",
              "       [ 52.        ],\n",
              "       [ 34.        ],\n",
              "       [ 48.        ],\n",
              "       [ 91.        ],\n",
              "       [ 33.        ],\n",
              "       [ 28.        ],\n",
              "       [ 91.        ],\n",
              "       [ 74.        ],\n",
              "       [ 63.        ],\n",
              "       [ 75.        ],\n",
              "       [ 33.        ],\n",
              "       [ 23.        ],\n",
              "       [ 73.        ],\n",
              "       [ 80.        ],\n",
              "       [ 34.        ],\n",
              "       [ 66.        ],\n",
              "       [ 12.        ],\n",
              "       [ 64.        ],\n",
              "       [ 98.        ],\n",
              "       [ 75.        ],\n",
              "       [100.        ],\n",
              "       [ 60.        ],\n",
              "       [ 48.        ],\n",
              "       [ 68.        ],\n",
              "       [ 37.        ],\n",
              "       [ 61.        ],\n",
              "       [ 42.        ],\n",
              "       [ 77.        ],\n",
              "       [ 95.        ],\n",
              "       [ 28.        ],\n",
              "       [ 96.        ],\n",
              "       [ 13.        ],\n",
              "       [ 27.        ],\n",
              "       [ 25.        ],\n",
              "       [ 90.        ],\n",
              "       [ 77.        ],\n",
              "       [ 80.        ],\n",
              "       [ 69.        ],\n",
              "       [ 75.        ],\n",
              "       [ 76.        ],\n",
              "       [ 57.        ],\n",
              "       [ 88.        ],\n",
              "       [ 55.        ],\n",
              "       [ 58.        ],\n",
              "       [ 42.        ],\n",
              "       [ 30.        ],\n",
              "       [ 20.        ],\n",
              "       [ 27.        ],\n",
              "       [ 55.        ],\n",
              "       [ 95.        ],\n",
              "       [ 47.        ],\n",
              "       [ 70.        ],\n",
              "       [ 82.        ],\n",
              "       [ 12.        ],\n",
              "       [ 80.        ],\n",
              "       [ 97.        ],\n",
              "       [ 60.        ],\n",
              "       [ 14.        ],\n",
              "       [ 56.        ],\n",
              "       [ 88.        ],\n",
              "       [ 53.        ],\n",
              "       [ 48.        ],\n",
              "       [ 89.        ],\n",
              "       [ 85.        ],\n",
              "       [ 28.        ],\n",
              "       [ 86.        ],\n",
              "       [ 51.        ],\n",
              "       [ 94.        ],\n",
              "       [ 64.        ],\n",
              "       [ 34.        ],\n",
              "       [ 19.        ],\n",
              "       [ 41.        ],\n",
              "       [ 63.        ],\n",
              "       [ 74.        ],\n",
              "       [ 54.        ],\n",
              "       [ 54.        ],\n",
              "       [ 36.        ],\n",
              "       [ 84.        ],\n",
              "       [ 86.        ],\n",
              "       [ 67.        ],\n",
              "       [ 60.        ],\n",
              "       [ 51.        ],\n",
              "       [ 53.        ],\n",
              "       [ 43.        ],\n",
              "       [ 46.        ],\n",
              "       [ 87.        ],\n",
              "       [ 65.        ],\n",
              "       [ 22.        ],\n",
              "       [ 83.        ],\n",
              "       [ 12.        ],\n",
              "       [ 78.        ],\n",
              "       [ 56.        ],\n",
              "       [ 36.        ],\n",
              "       [ 70.        ],\n",
              "       [ 68.        ],\n",
              "       [ 59.        ],\n",
              "       [ 36.        ],\n",
              "       [ 46.        ],\n",
              "       [ 44.        ],\n",
              "       [ 55.        ],\n",
              "       [ 66.        ],\n",
              "       [ 43.        ],\n",
              "       [ 47.        ],\n",
              "       [ 15.        ],\n",
              "       [ 45.        ],\n",
              "       [ 80.        ],\n",
              "       [ 14.        ],\n",
              "       [ 29.        ],\n",
              "       [ 95.        ],\n",
              "       [ 80.        ],\n",
              "       [ 79.        ],\n",
              "       [ 25.        ],\n",
              "       [ 10.        ],\n",
              "       [ 83.        ],\n",
              "       [ 28.        ],\n",
              "       [ 25.        ],\n",
              "       [ 39.        ],\n",
              "       [ 19.        ],\n",
              "       [ 11.        ],\n",
              "       [ 52.        ],\n",
              "       [ 29.        ],\n",
              "       [ 42.        ],\n",
              "       [ 57.        ],\n",
              "       [ 61.        ],\n",
              "       [ 84.        ],\n",
              "       [ 43.        ],\n",
              "       [ 61.        ],\n",
              "       [ 49.        ],\n",
              "       [ 83.        ],\n",
              "       [ 46.        ],\n",
              "       [ 74.        ],\n",
              "       [ 32.        ],\n",
              "       [ 34.        ],\n",
              "       [ 95.        ],\n",
              "       [ 42.        ],\n",
              "       [ 76.        ],\n",
              "       [ 23.        ],\n",
              "       [ 83.        ],\n",
              "       [ 77.        ],\n",
              "       [ 76.        ],\n",
              "       [ 14.        ],\n",
              "       [ 24.        ],\n",
              "       [ 14.        ],\n",
              "       [ 16.        ],\n",
              "       [ 86.        ],\n",
              "       [ 65.        ],\n",
              "       [ 21.        ],\n",
              "       [ 34.        ],\n",
              "       [ 51.        ],\n",
              "       [ 14.        ],\n",
              "       [100.        ],\n",
              "       [ 13.        ],\n",
              "       [ 46.        ],\n",
              "       [ 42.        ],\n",
              "       [ 35.        ],\n",
              "       [ 56.        ],\n",
              "       [ 78.        ],\n",
              "       [ 98.        ],\n",
              "       [ 54.        ],\n",
              "       [ 79.        ],\n",
              "       [ 29.        ],\n",
              "       [ 78.        ],\n",
              "       [ 31.        ],\n",
              "       [ 21.        ],\n",
              "       [ 80.        ],\n",
              "       [ 20.        ],\n",
              "       [ 25.        ],\n",
              "       [ 33.        ],\n",
              "       [ 99.        ],\n",
              "       [ 33.        ],\n",
              "       [ 66.        ],\n",
              "       [ 10.        ],\n",
              "       [ 86.        ],\n",
              "       [ 86.        ],\n",
              "       [ 49.        ],\n",
              "       [ 62.        ],\n",
              "       [ 59.        ],\n",
              "       [ 66.        ],\n",
              "       [ 88.        ],\n",
              "       [ 23.        ],\n",
              "       [ 23.        ],\n",
              "       [ 92.        ],\n",
              "       [ 65.        ],\n",
              "       [ 12.        ],\n",
              "       [ 95.        ],\n",
              "       [ 33.        ],\n",
              "       [ 56.        ],\n",
              "       [ 49.        ],\n",
              "       [ 20.        ],\n",
              "       [ 40.        ],\n",
              "       [ 65.        ],\n",
              "       [ 19.        ],\n",
              "       [ 80.        ],\n",
              "       [ 74.        ],\n",
              "       [ 39.        ],\n",
              "       [ 59.        ],\n",
              "       [ 51.        ],\n",
              "       [ 62.        ],\n",
              "       [ 44.        ],\n",
              "       [ 13.        ],\n",
              "       [ 63.        ],\n",
              "       [ 80.        ],\n",
              "       [ 78.        ],\n",
              "       [ 16.        ],\n",
              "       [ 23.        ],\n",
              "       [ 23.        ],\n",
              "       [ 39.        ],\n",
              "       [ 54.        ],\n",
              "       [ 85.        ],\n",
              "       [ 98.        ],\n",
              "       [ 49.        ],\n",
              "       [ 38.        ],\n",
              "       [ 75.        ],\n",
              "       [ 47.        ],\n",
              "       [ 30.        ],\n",
              "       [ 80.        ],\n",
              "       [ 38.        ],\n",
              "       [ 27.        ],\n",
              "       [ 44.        ],\n",
              "       [ 56.        ],\n",
              "       [ 13.        ],\n",
              "       [ 77.        ],\n",
              "       [ 49.        ],\n",
              "       [ 29.        ],\n",
              "       [ 62.        ],\n",
              "       [ 90.        ],\n",
              "       [ 14.        ],\n",
              "       [ 55.        ],\n",
              "       [ 84.        ],\n",
              "       [ 44.        ],\n",
              "       [ 36.        ],\n",
              "       [ 92.        ],\n",
              "       [ 68.        ],\n",
              "       [ 96.        ],\n",
              "       [ 78.        ],\n",
              "       [ 43.        ],\n",
              "       [ 78.        ],\n",
              "       [ 31.        ],\n",
              "       [ 58.        ],\n",
              "       [ 23.        ],\n",
              "       [ 20.        ],\n",
              "       [ 32.        ],\n",
              "       [ 79.        ],\n",
              "       [ 41.        ],\n",
              "       [ 48.        ],\n",
              "       [ 61.        ],\n",
              "       [ 26.        ],\n",
              "       [ 86.        ],\n",
              "       [ 35.        ],\n",
              "       [ 40.        ],\n",
              "       [ 30.        ],\n",
              "       [ 89.        ],\n",
              "       [ 24.        ],\n",
              "       [ 15.        ],\n",
              "       [ 22.        ],\n",
              "       [ 30.        ],\n",
              "       [ 60.        ],\n",
              "       [ 40.        ],\n",
              "       [ 64.        ],\n",
              "       [ 63.        ],\n",
              "       [ 95.        ],\n",
              "       [ 88.        ],\n",
              "       [ 77.        ],\n",
              "       [ 63.        ],\n",
              "       [ 36.        ],\n",
              "       [ 45.        ],\n",
              "       [ 92.        ],\n",
              "       [ 31.        ],\n",
              "       [ 80.        ],\n",
              "       [ 49.        ],\n",
              "       [ 76.        ],\n",
              "       [ 58.        ],\n",
              "       [ 78.        ],\n",
              "       [ 17.        ],\n",
              "       [ 16.        ],\n",
              "       [ 11.        ],\n",
              "       [ 49.        ],\n",
              "       [ 45.        ],\n",
              "       [ 18.        ],\n",
              "       [ 57.        ],\n",
              "       [ 41.        ],\n",
              "       [ 63.        ],\n",
              "       [ 90.        ],\n",
              "       [ 34.        ],\n",
              "       [ 35.        ],\n",
              "       [ 78.        ],\n",
              "       [ 69.        ],\n",
              "       [ 14.        ],\n",
              "       [ 42.        ],\n",
              "       [ 34.        ],\n",
              "       [ 51.        ],\n",
              "       [ 49.        ],\n",
              "       [ 18.        ],\n",
              "       [ 23.        ],\n",
              "       [ 91.        ],\n",
              "       [ 32.        ],\n",
              "       [ 81.        ],\n",
              "       [ 17.        ],\n",
              "       [ 92.        ],\n",
              "       [ 38.        ],\n",
              "       [ 34.        ],\n",
              "       [ 55.        ],\n",
              "       [ 83.        ],\n",
              "       [ 48.        ],\n",
              "       [ 57.        ],\n",
              "       [ 67.        ],\n",
              "       [ 57.        ],\n",
              "       [ 72.        ],\n",
              "       [ 97.        ],\n",
              "       [ 24.        ],\n",
              "       [ 30.        ],\n",
              "       [ 54.        ],\n",
              "       [ 29.        ],\n",
              "       [ 55.        ],\n",
              "       [ 31.        ],\n",
              "       [ 50.        ],\n",
              "       [ 25.        ],\n",
              "       [ 99.        ],\n",
              "       [ 25.        ],\n",
              "       [ 78.        ],\n",
              "       [ 40.        ],\n",
              "       [ 53.        ],\n",
              "       [ 28.        ],\n",
              "       [ 84.        ],\n",
              "       [ 82.        ],\n",
              "       [ 57.        ],\n",
              "       [ 75.        ],\n",
              "       [ 32.        ],\n",
              "       [ 34.        ],\n",
              "       [ 47.        ],\n",
              "       [ 69.        ],\n",
              "       [ 36.        ],\n",
              "       [ 78.        ],\n",
              "       [ 37.        ],\n",
              "       [ 69.        ],\n",
              "       [ 29.        ],\n",
              "       [ 46.        ],\n",
              "       [ 97.        ],\n",
              "       [ 63.        ],\n",
              "       [ 47.        ],\n",
              "       [ 22.        ],\n",
              "       [ 35.        ],\n",
              "       [ 61.        ],\n",
              "       [ 80.        ],\n",
              "       [ 86.        ],\n",
              "       [ 24.        ],\n",
              "       [ 31.        ],\n",
              "       [ 15.        ],\n",
              "       [ 29.        ],\n",
              "       [ 50.        ],\n",
              "       [ 77.        ],\n",
              "       [ 52.        ],\n",
              "       [ 15.        ],\n",
              "       [ 10.        ],\n",
              "       [ 61.        ],\n",
              "       [ 46.        ],\n",
              "       [ 23.        ],\n",
              "       [100.        ],\n",
              "       [ 37.        ],\n",
              "       [ 23.        ],\n",
              "       [ 72.        ],\n",
              "       [ 72.        ],\n",
              "       [ 13.        ],\n",
              "       [ 38.        ],\n",
              "       [ 45.        ],\n",
              "       [ 99.        ],\n",
              "       [ 97.        ],\n",
              "       [ 64.        ],\n",
              "       [ 59.        ],\n",
              "       [ 55.        ],\n",
              "       [ 58.        ],\n",
              "       [ 14.        ],\n",
              "       [ 58.        ],\n",
              "       [ 29.        ],\n",
              "       [ 95.        ],\n",
              "       [ 83.        ],\n",
              "       [ 90.        ],\n",
              "       [ 93.        ],\n",
              "       [ 62.        ],\n",
              "       [ 34.        ],\n",
              "       [ 99.        ],\n",
              "       [ 11.        ],\n",
              "       [100.        ],\n",
              "       [ 61.        ],\n",
              "       [ 19.        ],\n",
              "       [ 11.        ],\n",
              "       [ 64.        ],\n",
              "       [ 88.        ],\n",
              "       [ 14.        ],\n",
              "       [ 85.        ],\n",
              "       [ 95.        ],\n",
              "       [ 94.        ],\n",
              "       [ 32.        ],\n",
              "       [ 29.        ],\n",
              "       [ 15.        ],\n",
              "       [ 93.        ],\n",
              "       [ 75.        ],\n",
              "       [ 39.        ],\n",
              "       [ 43.        ],\n",
              "       [ 38.        ],\n",
              "       [ 11.        ],\n",
              "       [ 65.        ],\n",
              "       [ 31.        ],\n",
              "       [ 46.        ],\n",
              "       [ 45.        ],\n",
              "       [ 33.        ],\n",
              "       [ 41.        ],\n",
              "       [ 45.        ],\n",
              "       [ 17.        ],\n",
              "       [ 53.        ],\n",
              "       [ 26.        ],\n",
              "       [ 40.        ],\n",
              "       [ 40.        ],\n",
              "       [ 39.        ],\n",
              "       [ 25.        ],\n",
              "       [ 21.        ],\n",
              "       [ 51.        ],\n",
              "       [ 66.        ],\n",
              "       [ 76.        ],\n",
              "       [ 38.        ],\n",
              "       [ 44.        ],\n",
              "       [ 48.        ],\n",
              "       [ 82.        ],\n",
              "       [ 63.        ],\n",
              "       [ 88.        ],\n",
              "       [ 31.        ],\n",
              "       [ 85.        ],\n",
              "       [ 30.        ],\n",
              "       [ 85.        ],\n",
              "       [ 68.        ],\n",
              "       [ 15.        ],\n",
              "       [ 49.        ],\n",
              "       [ 36.        ],\n",
              "       [ 21.        ],\n",
              "       [ 58.        ],\n",
              "       [ 81.        ],\n",
              "       [ 16.        ],\n",
              "       [ 29.        ],\n",
              "       [ 31.        ],\n",
              "       [ 61.        ],\n",
              "       [ 98.        ],\n",
              "       [ 40.        ],\n",
              "       [ 18.        ],\n",
              "       [ 20.        ],\n",
              "       [ 57.        ],\n",
              "       [ 44.        ],\n",
              "       [ 99.        ],\n",
              "       [ 29.        ],\n",
              "       [100.        ],\n",
              "       [ 97.        ],\n",
              "       [ 32.        ],\n",
              "       [ 49.        ],\n",
              "       [ 22.        ],\n",
              "       [ 34.        ],\n",
              "       [ 12.        ],\n",
              "       [ 96.        ],\n",
              "       [ 60.        ],\n",
              "       [ 46.        ],\n",
              "       [ 76.        ],\n",
              "       [ 62.        ],\n",
              "       [ 79.        ],\n",
              "       [ 28.        ],\n",
              "       [ 66.        ],\n",
              "       [ 18.        ],\n",
              "       [ 94.        ],\n",
              "       [ 96.        ],\n",
              "       [ 15.        ],\n",
              "       [ 97.        ],\n",
              "       [ 83.        ],\n",
              "       [ 83.        ],\n",
              "       [ 76.        ],\n",
              "       [ 49.        ],\n",
              "       [ 32.        ],\n",
              "       [ 96.        ],\n",
              "       [ 57.        ],\n",
              "       [ 28.        ],\n",
              "       [ 99.        ],\n",
              "       [ 48.        ],\n",
              "       [ 39.        ],\n",
              "       [ 12.        ],\n",
              "       [ 21.        ],\n",
              "       [ 30.        ],\n",
              "       [ 15.        ],\n",
              "       [ 39.        ],\n",
              "       [ 65.        ],\n",
              "       [ 15.        ],\n",
              "       [ 94.        ],\n",
              "       [ 68.        ],\n",
              "       [ 35.        ],\n",
              "       [ 70.        ],\n",
              "       [ 70.        ],\n",
              "       [ 71.        ]])"
            ]
          },
          "metadata": {
            "tags": []
          },
          "execution_count": 138
        }
      ]
    },
    {
      "cell_type": "code",
      "metadata": {
        "colab": {
          "base_uri": "https://localhost:8080/"
        },
        "id": "JOcTiJTOIL9L",
        "outputId": "4673e135-d811-4e4a-f6e9-78dc9ea41a16"
      },
      "source": [
        "X_test"
      ],
      "execution_count": null,
      "outputs": [
        {
          "output_type": "execute_result",
          "data": {
            "text/plain": [
              "538     26.0\n",
              "1822    62.0\n",
              "534     29.0\n",
              "2119    92.0\n",
              "561     99.0\n",
              "        ... \n",
              "744     68.0\n",
              "733     35.0\n",
              "2647    70.0\n",
              "4149    70.0\n",
              "3819    71.0\n",
              "Name: TV, Length: 915, dtype: float64"
            ]
          },
          "metadata": {
            "tags": []
          },
          "execution_count": 139
        }
      ]
    },
    {
      "cell_type": "code",
      "metadata": {
        "id": "ZB9I4iHsDeOy"
      },
      "source": [
        "# 5) Use o modelo treinado para fazer previsões usando os dados de teste \n",
        "\n",
        "y_pred = modelo.predict(np.array(X_test).reshape(-1, 1))"
      ],
      "execution_count": null,
      "outputs": []
    },
    {
      "cell_type": "code",
      "metadata": {
        "colab": {
          "base_uri": "https://localhost:8080/"
        },
        "id": "RyxThYocDebs",
        "outputId": "6af7ceef-4b85-4655-f14a-f28d4339e862"
      },
      "source": [
        "pd.Series(y_pred)"
      ],
      "execution_count": null,
      "outputs": [
        {
          "output_type": "execute_result",
          "data": {
            "text/plain": [
              "0       92.693762\n",
              "1      220.729853\n",
              "2      103.363436\n",
              "3      327.426595\n",
              "4      352.322501\n",
              "          ...    \n",
              "910    242.069201\n",
              "911    124.702785\n",
              "912    249.182317\n",
              "913    249.182317\n",
              "914    252.738875\n",
              "Length: 915, dtype: float64"
            ]
          },
          "metadata": {
            "tags": []
          },
          "execution_count": 141
        }
      ]
    },
    {
      "cell_type": "code",
      "metadata": {
        "colab": {
          "base_uri": "https://localhost:8080/"
        },
        "id": "Id1d9MvDIpqf",
        "outputId": "5cd89d94-edbd-4503-d769-3baf23c9e64b"
      },
      "source": [
        "y_test"
      ],
      "execution_count": null,
      "outputs": [
        {
          "output_type": "execute_result",
          "data": {
            "text/plain": [
              "538      90.054222\n",
              "1822    222.741668\n",
              "534     102.774791\n",
              "2119    328.239378\n",
              "561     351.807328\n",
              "           ...    \n",
              "744     244.865923\n",
              "733     130.478750\n",
              "2647    251.403637\n",
              "4149    253.172404\n",
              "3819    250.151755\n",
              "Name: Sales, Length: 915, dtype: float64"
            ]
          },
          "metadata": {
            "tags": []
          },
          "execution_count": 142
        }
      ]
    },
    {
      "cell_type": "code",
      "metadata": {
        "colab": {
          "base_uri": "https://localhost:8080/",
          "height": 296
        },
        "id": "yKAheYLXI681",
        "outputId": "c823e93b-0a8c-4877-e77c-64732dae13b2"
      },
      "source": [
        "# faça um scatterplot do valor predito pelo valor real\n",
        "x = np.linspace(0,500,10000)\n",
        "\n",
        "plt.plot(x,x,color='red')\n",
        "\n",
        "sns.scatterplot(x=y_test, y=y_pred)"
      ],
      "execution_count": null,
      "outputs": [
        {
          "output_type": "execute_result",
          "data": {
            "text/plain": [
              "<matplotlib.axes._subplots.AxesSubplot at 0x7faec6cd7990>"
            ]
          },
          "metadata": {
            "tags": []
          },
          "execution_count": 147
        },
        {
          "output_type": "display_data",
          "data": {
            "image/png": "[encoded data removed]",
            "text/plain": [
              "<Figure size 432x288 with 1 Axes>"
            ]
          },
          "metadata": {
            "tags": [],
            "needs_background": "light"
          }
        }
      ]
    },
    {
      "cell_type": "code",
      "metadata": {
        "colab": {
          "base_uri": "https://localhost:8080/"
        },
        "id": "0e3kxGxhI7WD",
        "outputId": "5d403b00-74fc-4879-c38f-8f1c7a652571"
      },
      "source": [
        "# r^2 \n",
        "from sklearn import metrics\n",
        "\n",
        "metrics.r2_score(y_test, y_pred)"
      ],
      "execution_count": null,
      "outputs": [
        {
          "output_type": "execute_result",
          "data": {
            "text/plain": [
              "0.992437541516548"
            ]
          },
          "metadata": {
            "tags": []
          },
          "execution_count": 148
        }
      ]
    },
    {
      "cell_type": "code",
      "metadata": {
        "colab": {
          "base_uri": "https://localhost:8080/",
          "height": 296
        },
        "id": "juI2huwIJRkY",
        "outputId": "bda1f923-3532-4411-b02b-9c71d901869d"
      },
      "source": [
        "# dê uma olhada na distribuição dos resíduos\n",
        "res = y_test - y_pred\n",
        "\n",
        "sns.histplot(x=res, kde=True)"
      ],
      "execution_count": null,
      "outputs": [
        {
          "output_type": "execute_result",
          "data": {
            "text/plain": [
              "<matplotlib.axes._subplots.AxesSubplot at 0x7faec952c110>"
            ]
          },
          "metadata": {
            "tags": []
          },
          "execution_count": 149
        },
        {
          "output_type": "display_data",
          "data": {
            "image/png": "[encoded data removed]",
            "text/plain": [
              "<Figure size 432x288 with 1 Axes>"
            ]
          },
          "metadata": {
            "tags": [],
            "needs_background": "light"
          }
        }
      ]
    },
    {
      "cell_type": "code",
      "metadata": {
        "colab": {
          "base_uri": "https://localhost:8080/"
        },
        "id": "bL6lEhydJT0j",
        "outputId": "78aa125e-8589-4501-ff86-9da129f12666"
      },
      "source": [
        "print('MAE:', metrics.mean_absolute_error(y_test, y_pred))\n",
        "print('MSE:', metrics.mean_squared_error(y_test, y_pred))\n",
        "print('RMSE:', np.sqrt(metrics.mean_squared_error(y_test, y_pred)))"
      ],
      "execution_count": null,
      "outputs": [
        {
          "output_type": "stream",
          "text": [
            "MAE: 2.7798659434873505\n",
            "MSE: 63.11725462816907\n",
            "RMSE: 7.944636846840079\n"
          ],
          "name": "stdout"
        }
      ]
    },
    {
      "cell_type": "markdown",
      "metadata": {
        "id": "2BENgsKMMudD"
      },
      "source": [
        "# Regressão linear Múltipla"
      ]
    },
    {
      "cell_type": "markdown",
      "metadata": {
        "id": "2HZ-T8WZq2Kg"
      },
      "source": [
        "# Engenharia das features"
      ]
    },
    {
      "cell_type": "code",
      "metadata": {
        "id": "BX9z9Ud3qt23"
      },
      "source": [
        "# Transformando as variáveis categóricas em numéricas\n",
        "dummy_features = pd.get_dummies(df_preenchido)"
      ],
      "execution_count": null,
      "outputs": []
    },
    {
      "cell_type": "code",
      "metadata": {
        "colab": {
          "base_uri": "https://localhost:8080/",
          "height": 419
        },
        "id": "e-uNwhMZr3f8",
        "outputId": "3d924372-3221-4ad2-dbcb-cc25df7bae6b"
      },
      "source": [
        "dummy_features"
      ],
      "execution_count": null,
      "outputs": [
        {
          "output_type": "execute_result",
          "data": {
            "text/html": [
              "<div>\n",
              "<style scoped>\n",
              "    .dataframe tbody tr th:only-of-type {\n",
              "        vertical-align: middle;\n",
              "    }\n",
              "\n",
              "    .dataframe tbody tr th {\n",
              "        vertical-align: top;\n",
              "    }\n",
              "\n",
              "    .dataframe thead th {\n",
              "        text-align: right;\n",
              "    }\n",
              "</style>\n",
              "<table border=\"1\" class=\"dataframe\">\n",
              "  <thead>\n",
              "    <tr style=\"text-align: right;\">\n",
              "      <th></th>\n",
              "      <th>TV</th>\n",
              "      <th>Radio</th>\n",
              "      <th>Social Media</th>\n",
              "      <th>Sales</th>\n",
              "    </tr>\n",
              "  </thead>\n",
              "  <tbody>\n",
              "    <tr>\n",
              "      <th>0</th>\n",
              "      <td>16.0</td>\n",
              "      <td>6.566231</td>\n",
              "      <td>2.907983</td>\n",
              "      <td>54.732757</td>\n",
              "    </tr>\n",
              "    <tr>\n",
              "      <th>1</th>\n",
              "      <td>13.0</td>\n",
              "      <td>9.237765</td>\n",
              "      <td>2.409567</td>\n",
              "      <td>46.677897</td>\n",
              "    </tr>\n",
              "    <tr>\n",
              "      <th>2</th>\n",
              "      <td>41.0</td>\n",
              "      <td>15.886446</td>\n",
              "      <td>2.913410</td>\n",
              "      <td>150.177829</td>\n",
              "    </tr>\n",
              "    <tr>\n",
              "      <th>3</th>\n",
              "      <td>83.0</td>\n",
              "      <td>30.020028</td>\n",
              "      <td>6.922304</td>\n",
              "      <td>298.246340</td>\n",
              "    </tr>\n",
              "    <tr>\n",
              "      <th>4</th>\n",
              "      <td>15.0</td>\n",
              "      <td>8.437408</td>\n",
              "      <td>1.405998</td>\n",
              "      <td>56.594181</td>\n",
              "    </tr>\n",
              "    <tr>\n",
              "      <th>...</th>\n",
              "      <td>...</td>\n",
              "      <td>...</td>\n",
              "      <td>...</td>\n",
              "      <td>...</td>\n",
              "    </tr>\n",
              "    <tr>\n",
              "      <th>4567</th>\n",
              "      <td>26.0</td>\n",
              "      <td>4.472360</td>\n",
              "      <td>0.717090</td>\n",
              "      <td>94.685866</td>\n",
              "    </tr>\n",
              "    <tr>\n",
              "      <th>4568</th>\n",
              "      <td>71.0</td>\n",
              "      <td>20.610685</td>\n",
              "      <td>6.545573</td>\n",
              "      <td>249.101915</td>\n",
              "    </tr>\n",
              "    <tr>\n",
              "      <th>4569</th>\n",
              "      <td>44.0</td>\n",
              "      <td>19.800072</td>\n",
              "      <td>5.096192</td>\n",
              "      <td>163.631457</td>\n",
              "    </tr>\n",
              "    <tr>\n",
              "      <th>4570</th>\n",
              "      <td>71.0</td>\n",
              "      <td>17.534640</td>\n",
              "      <td>1.940873</td>\n",
              "      <td>253.610411</td>\n",
              "    </tr>\n",
              "    <tr>\n",
              "      <th>4571</th>\n",
              "      <td>42.0</td>\n",
              "      <td>15.966688</td>\n",
              "      <td>5.046548</td>\n",
              "      <td>148.202414</td>\n",
              "    </tr>\n",
              "  </tbody>\n",
              "</table>\n",
              "<p>4572 rows × 4 columns</p>\n",
              "</div>"
            ],
            "text/plain": [
              "        TV      Radio  Social Media       Sales\n",
              "0     16.0   6.566231      2.907983   54.732757\n",
              "1     13.0   9.237765      2.409567   46.677897\n",
              "2     41.0  15.886446      2.913410  150.177829\n",
              "3     83.0  30.020028      6.922304  298.246340\n",
              "4     15.0   8.437408      1.405998   56.594181\n",
              "...    ...        ...           ...         ...\n",
              "4567  26.0   4.472360      0.717090   94.685866\n",
              "4568  71.0  20.610685      6.545573  249.101915\n",
              "4569  44.0  19.800072      5.096192  163.631457\n",
              "4570  71.0  17.534640      1.940873  253.610411\n",
              "4571  42.0  15.966688      5.046548  148.202414\n",
              "\n",
              "[4572 rows x 4 columns]"
            ]
          },
          "metadata": {
            "tags": []
          },
          "execution_count": 152
        }
      ]
    },
    {
      "cell_type": "code",
      "metadata": {
        "colab": {
          "base_uri": "https://localhost:8080/",
          "height": 173
        },
        "id": "64b5nz25sq5f",
        "outputId": "a2f00512-4aff-477d-e8e6-d230d61935d3"
      },
      "source": [
        "dummy_features.corr()"
      ],
      "execution_count": null,
      "outputs": [
        {
          "output_type": "execute_result",
          "data": {
            "text/html": [
              "<div>\n",
              "<style scoped>\n",
              "    .dataframe tbody tr th:only-of-type {\n",
              "        vertical-align: middle;\n",
              "    }\n",
              "\n",
              "    .dataframe tbody tr th {\n",
              "        vertical-align: top;\n",
              "    }\n",
              "\n",
              "    .dataframe thead th {\n",
              "        text-align: right;\n",
              "    }\n",
              "</style>\n",
              "<table border=\"1\" class=\"dataframe\">\n",
              "  <thead>\n",
              "    <tr style=\"text-align: right;\">\n",
              "      <th></th>\n",
              "      <th>TV</th>\n",
              "      <th>Radio</th>\n",
              "      <th>Social Media</th>\n",
              "      <th>Sales</th>\n",
              "    </tr>\n",
              "  </thead>\n",
              "  <tbody>\n",
              "    <tr>\n",
              "      <th>TV</th>\n",
              "      <td>1.000000</td>\n",
              "      <td>0.866885</td>\n",
              "      <td>0.527010</td>\n",
              "      <td>0.996652</td>\n",
              "    </tr>\n",
              "    <tr>\n",
              "      <th>Radio</th>\n",
              "      <td>0.866885</td>\n",
              "      <td>1.000000</td>\n",
              "      <td>0.606793</td>\n",
              "      <td>0.867369</td>\n",
              "    </tr>\n",
              "    <tr>\n",
              "      <th>Social Media</th>\n",
              "      <td>0.527010</td>\n",
              "      <td>0.606793</td>\n",
              "      <td>1.000000</td>\n",
              "      <td>0.528121</td>\n",
              "    </tr>\n",
              "    <tr>\n",
              "      <th>Sales</th>\n",
              "      <td>0.996652</td>\n",
              "      <td>0.867369</td>\n",
              "      <td>0.528121</td>\n",
              "      <td>1.000000</td>\n",
              "    </tr>\n",
              "  </tbody>\n",
              "</table>\n",
              "</div>"
            ],
            "text/plain": [
              "                    TV     Radio  Social Media     Sales\n",
              "TV            1.000000  0.866885      0.527010  0.996652\n",
              "Radio         0.866885  1.000000      0.606793  0.867369\n",
              "Social Media  0.527010  0.606793      1.000000  0.528121\n",
              "Sales         0.996652  0.867369      0.528121  1.000000"
            ]
          },
          "metadata": {
            "tags": []
          },
          "execution_count": 153
        }
      ]
    },
    {
      "cell_type": "code",
      "metadata": {
        "colab": {
          "base_uri": "https://localhost:8080/"
        },
        "id": "4QQ5qQKXxRUw",
        "outputId": "df286dcd-7c24-4607-f522-a18f1340aa24"
      },
      "source": [
        "dummy_features.corr()[\"Sales\"].sort_values(ascending=False)"
      ],
      "execution_count": null,
      "outputs": [
        {
          "output_type": "execute_result",
          "data": {
            "text/plain": [
              "Sales           1.000000\n",
              "TV              0.996652\n",
              "Radio           0.867369\n",
              "Social Media    0.528121\n",
              "Name: Sales, dtype: float64"
            ]
          },
          "metadata": {
            "tags": []
          },
          "execution_count": 154
        }
      ]
    },
    {
      "cell_type": "code",
      "metadata": {
        "colab": {
          "base_uri": "https://localhost:8080/",
          "height": 797
        },
        "id": "TcQlZuZKJ9fV",
        "outputId": "14d89005-e141-47b8-af2d-e7c547d6160c"
      },
      "source": [
        "# de resto, pode seguir como tínhamos antes!\n",
        "\n",
        "dummy_features.select_dtypes(include=[np.number])\n",
        "dummy_features.dropna(axis=\"columns\", how=\"any\")\n",
        "\n",
        "X = dummy_features.drop(columns=[\"Sales\"])\n",
        "y = dummy_features[\"Sales\"]\n",
        "\n",
        "# 1)\n",
        "from sklearn.linear_model import LinearRegression\n",
        "\n",
        "# 2)\n",
        "estimador = LinearRegression()\n",
        "\n",
        "# 3)\n",
        "from sklearn.model_selection import train_test_split\n",
        "X_treino, X_teste, y_treino, y_teste = train_test_split(X, y, test_size=0.2, random_state=42)\n",
        "\n",
        "# 4)\n",
        "modelo = estimador.fit(X_treino, y_treino)\n",
        "\n",
        "print(\"Intercepto:\", modelo.intercept_)\n",
        "print(\"Coeficienter angular:\", modelo.coef_)\n",
        "\n",
        "print(\"\\n####################################################\\n\")\n",
        "\n",
        "# 5)\n",
        "predictions = modelo.predict(X_teste)\n",
        "plt.plot(np.linspace(0,500,10000),np.linspace(0,500,10000),color = 'red')\n",
        "plt.title(\"valor predito vs valor real\")\n",
        "sns.scatterplot(x=predictions, y=y_teste)\n",
        "plt.show()\n",
        "\n",
        "plt.title(\"Distribuição dos resíduos\")\n",
        "sns.histplot(y_teste-predictions, kde=True)\n",
        "plt.show()\n",
        "\n",
        "print(\"\\n####################################################\\n\")\n",
        "\n",
        "print(\"\\nMétricas de avaliação:\")\n",
        "\n",
        "# 6)\n",
        "from sklearn import metrics\n",
        "\n",
        "print('R^2:', metrics.r2_score(y_test, predictions))\n",
        "print('MAE:', metrics.mean_absolute_error(y_test, predictions))\n",
        "print('MSE:', metrics.mean_squared_error(y_test, predictions))\n",
        "print('RMSE:', np.sqrt(metrics.mean_squared_error(y_test, predictions)))"
      ],
      "execution_count": null,
      "outputs": [
        {
          "output_type": "stream",
          "text": [
            "Intercepto: 0.05524906631242743\n",
            "Coeficienter angular: [3.5112574  0.13177259 0.06802915]\n",
            "\n",
            "####################################################\n",
            "\n"
          ],
          "name": "stdout"
        },
        {
          "output_type": "display_data",
          "data": {
            "image/png": "[encoded data removed]",
            "text/plain": [
              "<Figure size 432x288 with 1 Axes>"
            ]
          },
          "metadata": {
            "tags": [],
            "needs_background": "light"
          }
        },
        {
          "output_type": "display_data",
          "data": {
            "image/png": "[encoded data removed]",
            "text/plain": [
              "<Figure size 432x288 with 1 Axes>"
            ]
          },
          "metadata": {
            "tags": [],
            "needs_background": "light"
          }
        },
        {
          "output_type": "stream",
          "text": [
            "\n",
            "####################################################\n",
            "\n",
            "\n",
            "Métricas de avaliação:\n",
            "R^2: 0.9924495666736649\n",
            "MAE: 2.8263398584546615\n",
            "MSE: 63.016891114722284\n",
            "RMSE: 7.9383179020950205\n"
          ],
          "name": "stdout"
        }
      ]
    }
  ]
}